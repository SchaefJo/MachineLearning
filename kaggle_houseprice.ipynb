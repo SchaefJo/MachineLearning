{
 "cells": [
  {
   "cell_type": "markdown",
   "metadata": {},
   "source": [
    "Machine Learning Model for the Kaggle comptetition https://www.kaggle.com/c/house-prices-advanced-regression-techniques/overview \n",
    "This model ranked 2621 out of 4470 and is therefore in the 59th percentile.\n",
    "\n",
    "The code for the display_all function and the code for the plot that shows how the number of estimators influence the model are copied from the machine learning course fast.ai\n",
    "https://github.com/fastai/fastai/blob/master/courses/ml1/lesson1-rf.ipynb\n",
    "https://github.com/fastai/fastai/blob/master/courses/ml1/lesson2-rf_interpretation.ipynb\n",
    "\n",
    "The Random Grid code is from \n",
    "https://towardsdatascience.com/hyperparameter-tuning-the-random-forest-in-python-using-scikit-learn-28d2aa77dd74"
   ]
  },
  {
   "cell_type": "markdown",
   "metadata": {},
   "source": [
    "# imports"
   ]
  },
  {
   "cell_type": "code",
   "execution_count": 79,
   "metadata": {},
   "outputs": [
    {
     "name": "stdout",
     "output_type": "stream",
     "text": [
      "The autoreload extension is already loaded. To reload it, use:\n",
      "  %reload_ext autoreload\n"
     ]
    }
   ],
   "source": [
    "%load_ext autoreload\n",
    "%autoreload 2\n",
    "\n",
    "%matplotlib inline\n",
    "\n",
    "from fastai.imports import *\n",
    "from fastai.structured import *\n",
    "\n",
    "from pandas_summary import DataFrameSummary\n",
    "from sklearn.ensemble import RandomForestRegressor, RandomForestClassifier\n",
    "from sklearn.model_selection import RandomizedSearchCV\n",
    "from IPython.display import display\n",
    "\n",
    "from sklearn import metrics"
   ]
  },
  {
   "cell_type": "markdown",
   "metadata": {},
   "source": [
    "# important functions"
   ]
  },
  {
   "cell_type": "code",
   "execution_count": 80,
   "metadata": {},
   "outputs": [],
   "source": [
    "# Displays 1000 rows/columns of data\n",
    "def display_all(df): \n",
    "    with pd.option_context(\"display.max_rows\", 1000, \"display.max_columns\", 1000): \n",
    "        display(df)"
   ]
  },
  {
   "cell_type": "code",
   "execution_count": 81,
   "metadata": {},
   "outputs": [],
   "source": [
    "# splits a dataset\n",
    "def split_df(df, n):\n",
    "    return df[:n], df[n:]"
   ]
  },
  {
   "cell_type": "code",
   "execution_count": 82,
   "metadata": {},
   "outputs": [],
   "source": [
    "# Root Mean Squared Error\n",
    "def RMSE(y_obs, y_pred): #observed vs predicted\n",
    "    return math.sqrt((np.sum(np.power(np.add(y_obs, -y_pred),2)))/len(y_obs))"
   ]
  },
  {
   "cell_type": "code",
   "execution_count": 83,
   "metadata": {},
   "outputs": [],
   "source": [
    "# print score, rmse on training and validation set\n",
    "def print_score(m,df_1,y_1,df_2,y_2):\n",
    "    result = [RMSE(m.predict(df_1),y_1), RMSE(m.predict(df_2),y_2), m.score(df_1,y_1), m.score(df_2,y_2)]\n",
    "    if hasattr(m, 'oob_score_'): result.append(m.oob_score_)\n",
    "    print(result)\n",
    "def return_score(m,df_1,y_1,df_2,y_2):\n",
    "    result = [RMSE(m.predict(df_1),y_1), RMSE(m.predict(df_2),y_2), m.score(df_1,y_1), m.score(df_2,y_2)]\n",
    "    if hasattr(m, 'oob_score_'): result.append(m.oob_score_)\n",
    "    return result"
   ]
  },
  {
   "cell_type": "markdown",
   "metadata": {},
   "source": [
    "# Loading and displaying Training Data "
   ]
  },
  {
   "cell_type": "code",
   "execution_count": 84,
   "metadata": {},
   "outputs": [],
   "source": [
    "df_raw = pd.read_csv(\"data/house_price/train.csv\", low_memory = False).drop(\"Id\", axis=1)"
   ]
  },
  {
   "cell_type": "markdown",
   "metadata": {},
   "source": [
    "# Data processing (log of dependent variable, change categorial variables to continues ones)"
   ]
  },
  {
   "cell_type": "code",
   "execution_count": 85,
   "metadata": {},
   "outputs": [],
   "source": [
    "df_raw[\"SalePrice\"] = np.log(df_raw[\"SalePrice\"])"
   ]
  },
  {
   "cell_type": "code",
   "execution_count": 86,
   "metadata": {},
   "outputs": [],
   "source": [
    "train_cats(df_raw) #string columns are now of type categorical"
   ]
  },
  {
   "cell_type": "code",
   "execution_count": 87,
   "metadata": {},
   "outputs": [],
   "source": [
    "# create order of continues values where an order might be important\n",
    "df_raw[\"LotShape\"].cat.set_categories([\"Reg\",\"IR1\",\"IR2\",\"IR3\"], ordered=True, inplace = True)\n",
    "df_raw[\"LandContour\"].cat.set_categories([\"Lvl\",\"Bnk\",\"HLS\",\"Low\"], ordered=True, inplace = True)\n",
    "df_raw[\"Utilities\"].cat.set_categories([\"AllPub\",\"NoSewr\",\"NoSeWa\",\"ELO\"], ordered=True, inplace = True)\n",
    "df_raw[\"LandSlope\"].cat.set_categories([\"Gtl\",\"Mod\",\"Sev\"], ordered=True, inplace = True)\n",
    "df_raw[\"LotShape\"].cat.set_categories([\"Reg\",\"IR1\",\"IR2\",\"IR3\"], ordered=True, inplace = True)\n",
    "df_raw[\"ExterQual\"].cat.set_categories([\"Ex\",\"Gd\",\"TA\",\"Fa\",\"Po\"], ordered=True, inplace = True)\n",
    "df_raw[\"ExterCond\"].cat.set_categories([\"Ex\",\"Gd\",\"TA\",\"Fa\",\"Po\"], ordered=True, inplace = True)\n",
    "df_raw[\"BsmtQual\"].cat.set_categories([\"Ex\",\"Gd\",\"TA\",\"Fa\",\"Po\",\"NA\"], ordered=True, inplace = True)\n",
    "df_raw[\"BsmtCond\"].cat.set_categories([\"Ex\",\"Gd\",\"TA\",\"Fa\",\"Po\",\"NA\"], ordered=True, inplace = True)\n",
    "df_raw[\"BsmtExposure\"].cat.set_categories([\"Gd\",\"Av\",\"Mn\",\"No\",\"NA\"], ordered=True, inplace = True)\n",
    "df_raw[\"BsmtFinType1\"].cat.set_categories([\"GLQ\",\"ALQ\",\"BLQ\",\"Rec\",\"LwQ\",\"Unf\",\"NA\"], ordered=True, inplace = True)\n",
    "df_raw[\"BsmtFinType2\"].cat.set_categories([\"GLQ\",\"ALQ\",\"BLQ\",\"Rec\",\"LwQ\",\"Unf\",\"NA\"], ordered=True, inplace = True)\n",
    "df_raw[\"HeatingQC\"].cat.set_categories([\"Ex\",\"Gd\",\"TA\",\"Fa\",\"Po\"], ordered=True, inplace = True)\n",
    "df_raw[\"KitchenQual\"].cat.set_categories([\"Ex\",\"Gd\",\"TA\",\"Fa\",\"Po\"], ordered=True, inplace = True)\n",
    "df_raw[\"Functional\"].cat.set_categories([\"Typ\",\"Min1\",\"Min2\",\"Mod\",\"Maj1\",\"Maj2\",\"Sev\",\"Sal\"], ordered=True, inplace = True)\n",
    "df_raw[\"GarageFinish\"].cat.set_categories([\"Fin\",\"RFn\",\"Unf\",\"NA\"], ordered=True, inplace = True)\n",
    "df_raw[\"GarageQual\"].cat.set_categories([\"Ex\",\"Gd\",\"TA\",\"Fa\",\"Po\",\"NA\"], ordered=True, inplace = True)\n",
    "df_raw[\"GarageCond\"].cat.set_categories([\"Ex\",\"Gd\",\"TA\",\"Fa\",\"Po\"], ordered=True, inplace = True)\n",
    "df_raw[\"PavedDrive\"].cat.set_categories([\"Y\",\"P\",\"N\"], ordered=True, inplace = True)\n",
    "df_raw[\"FireplaceQu\"].cat.set_categories([\"Ex\",\"Gd\",\"TA\",\"Fa\",\"Po\",\"NA\"], ordered = True, inplace = True)"
   ]
  },
  {
   "cell_type": "markdown",
   "metadata": {},
   "source": [
    "# Missing values"
   ]
  },
  {
   "cell_type": "code",
   "execution_count": 88,
   "metadata": {},
   "outputs": [
    {
     "data": {
      "text/plain": [
       "PoolQC          0.995205\n",
       "MiscFeature     0.963014\n",
       "Alley           0.937671\n",
       "Fence           0.807534\n",
       "FireplaceQu     0.472603\n",
       "LotFrontage     0.177397\n",
       "GarageType      0.055479\n",
       "GarageCond      0.055479\n",
       "GarageFinish    0.055479\n",
       "GarageQual      0.055479\n",
       "dtype: float64"
      ]
     },
     "execution_count": 88,
     "metadata": {},
     "output_type": "execute_result"
    }
   ],
   "source": [
    "df_raw.isnull().sum().sort_values(ascending = False).head(n=10)/len(df_raw)"
   ]
  },
  {
   "cell_type": "code",
   "execution_count": 89,
   "metadata": {},
   "outputs": [],
   "source": [
    "df, y, nas = proc_df(df_raw, \"SalePrice\") #categorical values will be changed to continues values, independent variable split from df\n",
    "df = df.drop([\"LotFrontage_na\",\"MasVnrArea_na\",\"GarageYrBlt_na\"], axis=1) #na columns create issues with the test set if there are no na in the same column\n",
    "df = df.drop([\"PoolQC\",\"MiscFeature\",\"Fence\",\"Alley\"], axis=1) #too many missing values"
   ]
  },
  {
   "cell_type": "markdown",
   "metadata": {},
   "source": [
    "# Validation Set"
   ]
  },
  {
   "cell_type": "code",
   "execution_count": 90,
   "metadata": {},
   "outputs": [],
   "source": [
    "df_train, df_val = split_df(df, len(df)-200)\n",
    "y_train, y_val = split_df(y, len(df)-200)"
   ]
  },
  {
   "cell_type": "markdown",
   "metadata": {},
   "source": [
    "# Hyperparameter tuning"
   ]
  },
  {
   "cell_type": "code",
   "execution_count": 91,
   "metadata": {},
   "outputs": [],
   "source": [
    "n_estimators = [i for i in range(20,61,10)]\n",
    "max_features = [1,0.5,\"sqrt\",\"log2\"]\n",
    "min_samples_leaf = [1,3,5,10,25] \n",
    "bootstrap = [True, False]\n",
    "random_grid = {'n_estimators': n_estimators, 'max_features': max_features, 'min_samples_leaf': min_samples_leaf, 'bootstrap': bootstrap}"
   ]
  },
  {
   "cell_type": "code",
   "execution_count": 92,
   "metadata": {},
   "outputs": [
    {
     "name": "stdout",
     "output_type": "stream",
     "text": [
      "Fitting 3 folds for each of 200 candidates, totalling 600 fits\n"
     ]
    },
    {
     "name": "stderr",
     "output_type": "stream",
     "text": [
      "[Parallel(n_jobs=-1)]: Using backend LokyBackend with 8 concurrent workers.\n",
      "[Parallel(n_jobs=-1)]: Done  52 tasks      | elapsed:    0.7s\n",
      "[Parallel(n_jobs=-1)]: Done 504 tasks      | elapsed:   11.0s\n",
      "[Parallel(n_jobs=-1)]: Done 600 out of 600 | elapsed:   12.8s finished\n"
     ]
    },
    {
     "data": {
      "text/plain": [
       "RandomizedSearchCV(cv=3, error_score='raise-deprecating',\n",
       "          estimator=RandomForestRegressor(bootstrap=True, criterion='mse', max_depth=None,\n",
       "           max_features='auto', max_leaf_nodes=None,\n",
       "           min_impurity_decrease=0.0, min_impurity_split=None,\n",
       "           min_samples_leaf=1, min_samples_split=2,\n",
       "           min_weight_fraction_leaf=0.0, n_estimators='warn', n_jobs=None,\n",
       "           oob_score=False, random_state=None, verbose=0, warm_start=False),\n",
       "          fit_params=None, iid='warn', n_iter=200, n_jobs=-1,\n",
       "          param_distributions={'n_estimators': [20, 30, 40, 50, 60], 'max_features': [1, 0.5, 'sqrt', 'log2'], 'min_samples_leaf': [1, 3, 5, 10, 25], 'bootstrap': [True, False]},\n",
       "          pre_dispatch='2*n_jobs', random_state=42, refit=True,\n",
       "          return_train_score='warn', scoring=None, verbose=2)"
      ]
     },
     "execution_count": 92,
     "metadata": {},
     "output_type": "execute_result"
    }
   ],
   "source": [
    "m = RandomForestRegressor()\n",
    "m_random = RandomizedSearchCV(estimator = m, param_distributions = random_grid, n_iter = 200, cv = 3, verbose=2, random_state=42, n_jobs = -1)\n",
    "m_random.fit(df_train, y_train)"
   ]
  },
  {
   "cell_type": "code",
   "execution_count": 93,
   "metadata": {},
   "outputs": [
    {
     "data": {
      "text/plain": [
       "{'n_estimators': 40,\n",
       " 'min_samples_leaf': 1,\n",
       " 'max_features': 0.5,\n",
       " 'bootstrap': False}"
      ]
     },
     "execution_count": 93,
     "metadata": {},
     "output_type": "execute_result"
    }
   ],
   "source": [
    "m_random.best_params_ #best parameter after 200 iteratons 3 folded"
   ]
  },
  {
   "cell_type": "code",
   "execution_count": 94,
   "metadata": {},
   "outputs": [],
   "source": [
    "params = list(m_random.best_params_.values())"
   ]
  },
  {
   "cell_type": "markdown",
   "metadata": {},
   "source": [
    "# RandomForest"
   ]
  },
  {
   "cell_type": "code",
   "execution_count": 95,
   "metadata": {},
   "outputs": [
    {
     "data": {
      "text/plain": [
       "RandomForestRegressor(bootstrap=False, criterion='mse', max_depth=None,\n",
       "           max_features=0.5, max_leaf_nodes=None,\n",
       "           min_impurity_decrease=0.0, min_impurity_split=None,\n",
       "           min_samples_leaf=1, min_samples_split=2,\n",
       "           min_weight_fraction_leaf=0.0, n_estimators=40, n_jobs=-1,\n",
       "           oob_score=False, random_state=None, verbose=0, warm_start=False)"
      ]
     },
     "execution_count": 95,
     "metadata": {},
     "output_type": "execute_result"
    }
   ],
   "source": [
    "#RandomForest with best parameter from the Random Grid\n",
    "m = RandomForestRegressor(n_estimators = params[0], n_jobs = -1, min_samples_leaf = params[1], max_features = params[2], bootstrap = params[3]) \n",
    "m.fit(df_train, y_train)"
   ]
  },
  {
   "cell_type": "code",
   "execution_count": 96,
   "metadata": {},
   "outputs": [
    {
     "data": {
      "text/plain": [
       "(array([12.19552, 12.08391, 12.07767, 12.10625, 12.06105, 12.08954, 12.10349, 12.10625, 12.12269, 12.15478,\n",
       "        12.08108, 12.10016, 12.12811, 12.08954, 12.03765, 12.08954, 12.10625, 12.10625, 12.3194 , 12.12811,\n",
       "        12.20607, 12.09514, 12.09486, 12.1442 , 12.03172, 12.12811, 12.05786, 12.20857, 12.29911, 12.08391,\n",
       "        12.14153, 12.09458, 12.08954, 12.15478, 12.15478, 12.1335 , 12.12811, 12.10625, 12.1442 , 12.08954]),\n",
       " 12.121839880730937,\n",
       " 12.106252310247962)"
      ]
     },
     "execution_count": 96,
     "metadata": {},
     "output_type": "execute_result"
    }
   ],
   "source": [
    "preds = np.stack([t.predict(df_val) for t in m.estimators_])\n",
    "preds[:,0], np.mean(preds[:,0]), y_val[0]"
   ]
  },
  {
   "cell_type": "code",
   "execution_count": 97,
   "metadata": {},
   "outputs": [
    {
     "name": "stdout",
     "output_type": "stream",
     "text": [
      "[9.57654814861322e-06, 0.14185282883207556, 0.9999999994293229, 0.8672375825680922]\n"
     ]
    },
    {
     "data": {
      "image/png": "[encoded data removed]",
      "text/plain": [
       "<Figure size 432x288 with 1 Axes>"
      ]
     },
     "metadata": {
      "needs_background": "light"
     },
     "output_type": "display_data"
    }
   ],
   "source": [
    "plt.plot([metrics.r2_score(y_val, np.mean(preds[:i+1], axis=0)) for i in range(params[0])]); print_score(m,df_train,y_train,df_val,y_val)"
   ]
  },
  {
   "cell_type": "markdown",
   "metadata": {},
   "source": [
    "# Test data set"
   ]
  },
  {
   "cell_type": "code",
   "execution_count": 98,
   "metadata": {},
   "outputs": [],
   "source": [
    "df_test_raw = pd.read_csv(\"data/house_price/test.csv\", low_memory = False).drop(\"Id\", axis=1)"
   ]
  },
  {
   "cell_type": "code",
   "execution_count": 99,
   "metadata": {},
   "outputs": [],
   "source": [
    "apply_cats(df_test_raw, df_raw) #string columns are now of type categorical, but uses the same template from train_cats"
   ]
  },
  {
   "cell_type": "code",
   "execution_count": 100,
   "metadata": {},
   "outputs": [],
   "source": [
    "cols = ['BsmtFinSF1_na','BsmtFinSF2_na','BsmtUnfSF_na','TotalBsmtSF_na','BsmtFullBath_na','BsmtHalfBath_na','GarageCars_na','GarageArea_na',\"LotFrontage_na\",\"MasVnrArea_na\",\"GarageYrBlt_na\",\"Alley\",\"Fence\",\"PoolQC\",\"MiscFeature\"]\n",
    "df_test = proc_df(df_test_raw)[0].drop(cols, axis=1)"
   ]
  },
  {
   "cell_type": "code",
   "execution_count": 101,
   "metadata": {},
   "outputs": [],
   "source": [
    "y_test = m.predict(df_test)"
   ]
  },
  {
   "cell_type": "code",
   "execution_count": 102,
   "metadata": {},
   "outputs": [],
   "source": [
    "df_sub=pd.DataFrame({'Id':np.array(df_test_raw.index) + 1461, 'Saleprice':np.exp(y_test)})\n"
   ]
  },
  {
   "cell_type": "code",
   "execution_count": 103,
   "metadata": {},
   "outputs": [],
   "source": [
    "df_sub.to_csv(\"house_price_test.csv\", index=False)"
   ]
  }
 ],
 "metadata": {
  "kernelspec": {
   "display_name": "Python 3",
   "language": "python",
   "name": "python3"
  },
  "language_info": {
   "codemirror_mode": {
    "name": "ipython",
    "version": 3
   },
   "file_extension": ".py",
   "mimetype": "text/x-python",
   "name": "python",
   "nbconvert_exporter": "python",
   "pygments_lexer": "ipython3",
   "version": "3.6.8"
  }
 },
 "nbformat": 4,
 "nbformat_minor": 2
}
